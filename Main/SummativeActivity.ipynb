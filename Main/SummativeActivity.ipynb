{
 "cells": [
  {
   "cell_type": "code",
   "execution_count": null,
   "id": "initial_id",
   "metadata": {
    "ExecuteTime": {
     "end_time": "2025-06-29T14:24:34.503700Z",
     "start_time": "2025-06-29T14:24:34.496772Z"
    },
    "collapsed": true
   },
   "outputs": [
    {
     "name": "stderr",
     "output_type": "stream",
     "text": [
      "[nltk_data] Downloading package stopwords to\n",
      "[nltk_data]     C:\\Users\\Admin\\AppData\\Roaming\\nltk_data...\n",
      "[nltk_data]   Package stopwords is already up-to-date!\n",
      "[nltk_data] Downloading package wordnet to\n",
      "[nltk_data]     C:\\Users\\Admin\\AppData\\Roaming\\nltk_data...\n",
      "[nltk_data]   Package wordnet is already up-to-date!\n"
     ]
    }
   ],
   "source": [
    "import pandas as pd\n",
    "import re\n",
    "import nltk\n",
    "from nltk.corpus import stopwords\n",
    "from nltk.stem import WordNetLemmatizer\n",
    "from sklearn.feature_extraction.text import CountVectorizer\n",
    "from sklearn.decomposition import LatentDirichletAllocation\n",
    "\n",
    "nltk.download('stopwords')\n",
    "nltk.download('wordnet')\n",
    "\n",
    "df = pd.read_csv('../data/merged_data.csv')\n",
    "texts = df['Tweet'].dropna().tolist()"
   ]
  },
  {
   "cell_type": "code",
   "execution_count": null,
   "id": "c472e45a615f7e73",
   "metadata": {
    "ExecuteTime": {
     "end_time": "2025-06-29T14:24:35.636256Z",
     "start_time": "2025-06-29T14:24:34.514055Z"
    }
   },
   "outputs": [
    {
     "name": "stdout",
     "output_type": "stream",
     "text": [
      "Topic 1: climate change\n",
      "Topic 2: carbon footprint\n",
      "Topic 3: carbon climate\n"
     ]
    }
   ],
   "source": [
    "def preprocess(text, lemmatizer, stop_words):\n",
    "    # Lowercase\n",
    "    text = text.lower()\n",
    "    # Remove URLs, mentions, hashtags\n",
    "    text = re.sub(r\"http\\S+|www\\.\\S+\", \"\", text)\n",
    "    text = re.sub(r\"@\\w+|#\", \"\", text)\n",
    "    # Remove non-alphabetic characters\n",
    "    text = re.sub(r\"[^a-z\\s]\", \"\", text)\n",
    "    # Tokenize\n",
    "    tokens = text.split()\n",
    "    # Remove stopwords and short tokens\n",
    "    tokens = [t for t in tokens if t not in stop_words and len(t) > 2]\n",
    "    # Lemmatize\n",
    "    tokens = [lemmatizer.lemmatize(t) for t in tokens]\n",
    "    return \" \".join(tokens)\n",
    "\n",
    "base_stops = stopwords.words('english')\n",
    "lemmatizer = WordNetLemmatizer()\n",
    "\n",
    "\n",
    "processed_texts = [preprocess(t, lemmatizer, base_stops) for t in texts]\n",
    "\n",
    "vectorizer = CountVectorizer(max_df=0.8, min_df=2, max_features=1500, ngram_range=(1,3))\n",
    "dt_matrix = vectorizer.fit_transform(processed_texts)\n",
    "\n",
    "n_topics = 3  \n",
    "lda = LatentDirichletAllocation(n_components=n_topics,\n",
    "                                max_iter=100,\n",
    "                                learning_method='online',\n",
    "                                random_state=42,\n",
    "                                doc_topic_prior=0.1,   \n",
    "                                topic_word_prior=0.01  \n",
    "                            )\n",
    "lda.fit(dt_matrix)\n",
    "\n",
    "\n",
    "def display_topics(model, feature_names, no_top_words=3):\n",
    "    for idx, topic in enumerate(model.components_):\n",
    "       \n",
    "        sorted_indices = topic.argsort()[:-no_top_words*2 - 1:-1]\n",
    "\n",
    "        unique_terms = []\n",
    "        for i in sorted_indices:\n",
    "            term = feature_names[i]\n",
    "            if term not in unique_terms:\n",
    "                unique_terms.append(term)\n",
    "            \n",
    "\n",
    "        print(f\"Topic {idx + 1}: {' '.join(unique_terms)}\")\n",
    "\n",
    "tf_feature_names = vectorizer.get_feature_names_out()\n",
    "display_topics(lda, tf_feature_names, 1)\n"
   ]
  },
  {
   "cell_type": "markdown",
   "id": "a676d55b",
   "metadata": {},
   "source": [
    "performance metrics"
   ]
  },
  {
   "cell_type": "code",
   "execution_count": 27,
   "id": "7a283417",
   "metadata": {},
   "outputs": [
    {
     "name": "stdout",
     "output_type": "stream",
     "text": [
      "\n",
      "=== Model Performance Metrics ===\n",
      "Perplexity: 1160.34\n",
      "Topic Distinctiveness: 0.7333\n",
      "Topic Coherence (PMI): 0.1830\n",
      "Topic Diversity: 0.5977\n"
     ]
    },
    {
     "data": {
      "image/png": "[encoded data removed]",
      "text/plain": [
       "<Figure size 1000x500 with 1 Axes>"
      ]
     },
     "metadata": {},
     "output_type": "display_data"
    }
   ],
   "source": [
    "import numpy as np\n",
    "import matplotlib.pyplot as plt\n",
    "from sklearn.metrics import pairwise_distances\n",
    "import pyLDAvis\n",
    "\n",
    "\n",
    "# Performance Evaluation Functions\n",
    "def calculate_topic_distinctiveness(components, feature_names, top_n=5):\n",
    "    \"\"\"Measure how distinct topics are from each other (0-1 scale)\"\"\"\n",
    "    top_words_per_topic = []\n",
    "    for topic in components:\n",
    "        top_words_idx = topic.argsort()[-top_n:][::-1]\n",
    "        top_words_per_topic.append(set(feature_names[top_words_idx]))\n",
    "    \n",
    "    distinctiveness_scores = []\n",
    "    for i, topic_words in enumerate(top_words_per_topic):\n",
    "        other_topics = [set(t) for j, t in enumerate(top_words_per_topic) if j != i]\n",
    "        overlap_scores = [len(topic_words & other) for other in other_topics]\n",
    "        distinctiveness_scores.append(1 - np.mean(overlap_scores)/top_n)\n",
    "    \n",
    "    return np.mean(distinctiveness_scores)\n",
    "\n",
    "def calculate_topic_coherence(dt_matrix, components, feature_names, top_n=5):\n",
    "    \"\"\"Custom coherence metric using Pointwise Mutual Information\"\"\"\n",
    "    coherence_scores = []\n",
    "    for topic in components:\n",
    "        top_words_idx = topic.argsort()[-top_n:][::-1]\n",
    "        word_pairs = [(i, j) for i in top_words_idx for j in top_words_idx if i < j]\n",
    "        \n",
    "        if not word_pairs:\n",
    "            continue\n",
    "            \n",
    "        # Convert sparse matrix to dense for faster calculations\n",
    "        dense_matrix = (dt_matrix > 0).astype(int).toarray()\n",
    "        pmi_scores = []\n",
    "        for i, j in word_pairs:\n",
    "            # Joint probability\n",
    "            p_ij = np.mean(dense_matrix[:, i] * dense_matrix[:, j])\n",
    "            # Individual probabilities\n",
    "            p_i = np.mean(dense_matrix[:, i])\n",
    "            p_j = np.mean(dense_matrix[:, j])\n",
    "            \n",
    "            # Avoid log(0)\n",
    "            if p_ij > 1e-12 and p_i > 1e-12 and p_j > 1e-12:\n",
    "                pmi_scores.append(np.log(p_ij / (p_i * p_j)))\n",
    "        \n",
    "        if pmi_scores:\n",
    "            coherence_scores.append(np.mean(pmi_scores))\n",
    "    \n",
    "    return np.mean(coherence_scores) if coherence_scores else 0\n",
    "\n",
    "\n",
    "# Performance Metrics Calculation\n",
    "print(\"\\n=== Model Performance Metrics ===\")\n",
    "print(f\"Perplexity: {lda.perplexity(dt_matrix):.2f}\")\n",
    "\n",
    "distinctiveness = calculate_topic_distinctiveness(lda.components_, tf_feature_names)\n",
    "print(f\"Topic Distinctiveness: {distinctiveness:.4f}\")\n",
    "\n",
    "coherence = calculate_topic_coherence(dt_matrix, lda.components_, tf_feature_names)\n",
    "print(f\"Topic Coherence (PMI): {coherence:.4f}\")\n",
    "\n",
    "# Topic Diversity (based on cosine similarity)\n",
    "topic_diversity = 1 - pairwise_distances(lda.components_, metric='cosine').mean()\n",
    "print(f\"Topic Diversity: {topic_diversity:.4f}\")\n",
    "\n",
    "# Topic Distribution Plot\n",
    "plt.figure(figsize=(10, 5))\n",
    "topic_probs = lda.transform(dt_matrix)\n",
    "plt.bar(range(n_topics), topic_probs.mean(axis=0))\n",
    "plt.title(\"Average Topic Distribution Across Documents\")\n",
    "plt.xlabel(\"Topic ID\")\n",
    "plt.ylabel(\"Mean Probability\")\n",
    "plt.xticks(range(n_topics), [f\"Topic {i+1}\" for i in range(n_topics)])\n",
    "plt.show()\n"
   ]
  },
  {
   "cell_type": "markdown",
   "id": "d94fcedc",
   "metadata": {},
   "source": [
    "- **Perplexity**: Lower is better (yours is ~{lda.perplexity(dt_matrix):.2f})\n",
    "  - < 200: Excellent\n",
    "  - 200-500: Good\n",
    "  - > 500: Needs improvement\n",
    "\n",
    "- **Topic Distinctiveness**: Target > 0.7 (yours: {distinctiveness:.4f})\n",
    "- **Topic Coherence**: PMI > 1.0 is good (yours: {coherence:.4f})\n",
    "- **Topic Diversity**: Closer to 1 is better (yours: {topic_diversity:.4f})"
   ]
  },
  {
   "cell_type": "markdown",
   "id": "eb8e9451",
   "metadata": {},
   "source": [
    "unsupervised sentiment analysis"
   ]
  },
  {
   "cell_type": "code",
   "execution_count": 28,
   "id": "bc39e374",
   "metadata": {},
   "outputs": [
    {
     "name": "stderr",
     "output_type": "stream",
     "text": [
      "[nltk_data] Downloading package vader_lexicon to\n",
      "[nltk_data]     C:\\Users\\Admin\\AppData\\Roaming\\nltk_data...\n"
     ]
    },
    {
     "data": {
      "application/vnd.plotly.v1+json": {
       "config": {
        "plotlyServerURL": "https://plot.ly"
       },
       "data": [
        {
         "customdata": [
          [
           [
            "climate",
            "change",
            "climate change",
            "crisis",
            "climate crisis",
            "global",
            "level",
            "impact",
            "sea",
            "rising"
           ]
          ]
         ],
         "hovertemplate": "sentiment=Negative<br>Topic ID=%{x}<br>Sentiment Score=%{y}<br>top_words=%{customdata[0]}<extra></extra>",
         "legendgroup": "Negative",
         "marker": {
          "color": "#636efa",
          "pattern": {
           "shape": ""
          }
         },
         "name": "Negative",
         "orientation": "v",
         "showlegend": true,
         "textposition": "auto",
         "type": "bar",
         "x": {
          "bdata": "AA==",
          "dtype": "i1"
         },
         "xaxis": "x",
         "y": {
          "bdata": "hq0jWGZbt78=",
          "dtype": "f8"
         },
         "yaxis": "y"
        },
        {
         "customdata": [
          [
           [
            "carbon",
            "footprint",
            "carbon footprint",
            "energy",
            "sustainable",
            "reducing",
            "future",
            "reducing carbon",
            "global",
            "green"
           ]
          ],
          [
           [
            "carbon",
            "climate",
            "emission",
            "change",
            "climate change",
            "carbon emission",
            "energy",
            "reduce",
            "footprint",
            "carbon footprint"
           ]
          ]
         ],
         "hovertemplate": "sentiment=Positive<br>Topic ID=%{x}<br>Sentiment Score=%{y}<br>top_words=%{customdata[0]}<extra></extra>",
         "legendgroup": "Positive",
         "marker": {
          "color": "#EF553B",
          "pattern": {
           "shape": ""
          }
         },
         "name": "Positive",
         "orientation": "v",
         "showlegend": true,
         "textposition": "auto",
         "type": "bar",
         "x": {
          "bdata": "AQI=",
          "dtype": "i1"
         },
         "xaxis": "x",
         "y": {
          "bdata": "fhnnyvuTxT/o/kUrUry9Pw==",
          "dtype": "f8"
         },
         "yaxis": "y"
        }
       ],
       "layout": {
        "barmode": "relative",
        "legend": {
         "title": {
          "text": "sentiment"
         },
         "tracegroupgap": 0
        },
        "template": {
         "data": {
          "bar": [
           {
            "error_x": {
             "color": "#2a3f5f"
            },
            "error_y": {
             "color": "#2a3f5f"
            },
            "marker": {
             "line": {
              "color": "#E5ECF6",
              "width": 0.5
             },
             "pattern": {
              "fillmode": "overlay",
              "size": 10,
              "solidity": 0.2
             }
            },
            "type": "bar"
           }
          ],
          "barpolar": [
           {
            "marker": {
             "line": {
              "color": "#E5ECF6",
              "width": 0.5
             },
             "pattern": {
              "fillmode": "overlay",
              "size": 10,
              "solidity": 0.2
             }
            },
            "type": "barpolar"
           }
          ],
          "carpet": [
           {
            "aaxis": {
             "endlinecolor": "#2a3f5f",
             "gridcolor": "white",
             "linecolor": "white",
             "minorgridcolor": "white",
             "startlinecolor": "#2a3f5f"
            },
            "baxis": {
             "endlinecolor": "#2a3f5f",
             "gridcolor": "white",
             "linecolor": "white",
             "minorgridcolor": "white",
             "startlinecolor": "#2a3f5f"
            },
            "type": "carpet"
           }
          ],
          "choropleth": [
           {
            "colorbar": {
             "outlinewidth": 0,
             "ticks": ""
            },
            "type": "choropleth"
           }
          ],
          "contour": [
           {
            "colorbar": {
             "outlinewidth": 0,
             "ticks": ""
            },
            "colorscale": [
             [
              0,
              "#0d0887"
             ],
             [
              0.1111111111111111,
              "#46039f"
             ],
             [
              0.2222222222222222,
              "#7201a8"
             ],
             [
              0.3333333333333333,
              "#9c179e"
             ],
             [
              0.4444444444444444,
              "#bd3786"
             ],
             [
              0.5555555555555556,
              "#d8576b"
             ],
             [
              0.6666666666666666,
              "#ed7953"
             ],
             [
              0.7777777777777778,
              "#fb9f3a"
             ],
             [
              0.8888888888888888,
              "#fdca26"
             ],
             [
              1,
              "#f0f921"
             ]
            ],
            "type": "contour"
           }
          ],
          "contourcarpet": [
           {
            "colorbar": {
             "outlinewidth": 0,
             "ticks": ""
            },
            "type": "contourcarpet"
           }
          ],
          "heatmap": [
           {
            "colorbar": {
             "outlinewidth": 0,
             "ticks": ""
            },
            "colorscale": [
             [
              0,
              "#0d0887"
             ],
             [
              0.1111111111111111,
              "#46039f"
             ],
             [
              0.2222222222222222,
              "#7201a8"
             ],
             [
              0.3333333333333333,
              "#9c179e"
             ],
             [
              0.4444444444444444,
              "#bd3786"
             ],
             [
              0.5555555555555556,
              "#d8576b"
             ],
             [
              0.6666666666666666,
              "#ed7953"
             ],
             [
              0.7777777777777778,
              "#fb9f3a"
             ],
             [
              0.8888888888888888,
              "#fdca26"
             ],
             [
              1,
              "#f0f921"
             ]
            ],
            "type": "heatmap"
           }
          ],
          "histogram": [
           {
            "marker": {
             "pattern": {
              "fillmode": "overlay",
              "size": 10,
              "solidity": 0.2
             }
            },
            "type": "histogram"
           }
          ],
          "histogram2d": [
           {
            "colorbar": {
             "outlinewidth": 0,
             "ticks": ""
            },
            "colorscale": [
             [
              0,
              "#0d0887"
             ],
             [
              0.1111111111111111,
              "#46039f"
             ],
             [
              0.2222222222222222,
              "#7201a8"
             ],
             [
              0.3333333333333333,
              "#9c179e"
             ],
             [
              0.4444444444444444,
              "#bd3786"
             ],
             [
              0.5555555555555556,
              "#d8576b"
             ],
             [
              0.6666666666666666,
              "#ed7953"
             ],
             [
              0.7777777777777778,
              "#fb9f3a"
             ],
             [
              0.8888888888888888,
              "#fdca26"
             ],
             [
              1,
              "#f0f921"
             ]
            ],
            "type": "histogram2d"
           }
          ],
          "histogram2dcontour": [
           {
            "colorbar": {
             "outlinewidth": 0,
             "ticks": ""
            },
            "colorscale": [
             [
              0,
              "#0d0887"
             ],
             [
              0.1111111111111111,
              "#46039f"
             ],
             [
              0.2222222222222222,
              "#7201a8"
             ],
             [
              0.3333333333333333,
              "#9c179e"
             ],
             [
              0.4444444444444444,
              "#bd3786"
             ],
             [
              0.5555555555555556,
              "#d8576b"
             ],
             [
              0.6666666666666666,
              "#ed7953"
             ],
             [
              0.7777777777777778,
              "#fb9f3a"
             ],
             [
              0.8888888888888888,
              "#fdca26"
             ],
             [
              1,
              "#f0f921"
             ]
            ],
            "type": "histogram2dcontour"
           }
          ],
          "mesh3d": [
           {
            "colorbar": {
             "outlinewidth": 0,
             "ticks": ""
            },
            "type": "mesh3d"
           }
          ],
          "parcoords": [
           {
            "line": {
             "colorbar": {
              "outlinewidth": 0,
              "ticks": ""
             }
            },
            "type": "parcoords"
           }
          ],
          "pie": [
           {
            "automargin": true,
            "type": "pie"
           }
          ],
          "scatter": [
           {
            "fillpattern": {
             "fillmode": "overlay",
             "size": 10,
             "solidity": 0.2
            },
            "type": "scatter"
           }
          ],
          "scatter3d": [
           {
            "line": {
             "colorbar": {
              "outlinewidth": 0,
              "ticks": ""
             }
            },
            "marker": {
             "colorbar": {
              "outlinewidth": 0,
              "ticks": ""
             }
            },
            "type": "scatter3d"
           }
          ],
          "scattercarpet": [
           {
            "marker": {
             "colorbar": {
              "outlinewidth": 0,
              "ticks": ""
             }
            },
            "type": "scattercarpet"
           }
          ],
          "scattergeo": [
           {
            "marker": {
             "colorbar": {
              "outlinewidth": 0,
              "ticks": ""
             }
            },
            "type": "scattergeo"
           }
          ],
          "scattergl": [
           {
            "marker": {
             "colorbar": {
              "outlinewidth": 0,
              "ticks": ""
             }
            },
            "type": "scattergl"
           }
          ],
          "scattermap": [
           {
            "marker": {
             "colorbar": {
              "outlinewidth": 0,
              "ticks": ""
             }
            },
            "type": "scattermap"
           }
          ],
          "scattermapbox": [
           {
            "marker": {
             "colorbar": {
              "outlinewidth": 0,
              "ticks": ""
             }
            },
            "type": "scattermapbox"
           }
          ],
          "scatterpolar": [
           {
            "marker": {
             "colorbar": {
              "outlinewidth": 0,
              "ticks": ""
             }
            },
            "type": "scatterpolar"
           }
          ],
          "scatterpolargl": [
           {
            "marker": {
             "colorbar": {
              "outlinewidth": 0,
              "ticks": ""
             }
            },
            "type": "scatterpolargl"
           }
          ],
          "scatterternary": [
           {
            "marker": {
             "colorbar": {
              "outlinewidth": 0,
              "ticks": ""
             }
            },
            "type": "scatterternary"
           }
          ],
          "surface": [
           {
            "colorbar": {
             "outlinewidth": 0,
             "ticks": ""
            },
            "colorscale": [
             [
              0,
              "#0d0887"
             ],
             [
              0.1111111111111111,
              "#46039f"
             ],
             [
              0.2222222222222222,
              "#7201a8"
             ],
             [
              0.3333333333333333,
              "#9c179e"
             ],
             [
              0.4444444444444444,
              "#bd3786"
             ],
             [
              0.5555555555555556,
              "#d8576b"
             ],
             [
              0.6666666666666666,
              "#ed7953"
             ],
             [
              0.7777777777777778,
              "#fb9f3a"
             ],
             [
              0.8888888888888888,
              "#fdca26"
             ],
             [
              1,
              "#f0f921"
             ]
            ],
            "type": "surface"
           }
          ],
          "table": [
           {
            "cells": {
             "fill": {
              "color": "#EBF0F8"
             },
             "line": {
              "color": "white"
             }
            },
            "header": {
             "fill": {
              "color": "#C8D4E3"
             },
             "line": {
              "color": "white"
             }
            },
            "type": "table"
           }
          ]
         },
         "layout": {
          "annotationdefaults": {
           "arrowcolor": "#2a3f5f",
           "arrowhead": 0,
           "arrowwidth": 1
          },
          "autotypenumbers": "strict",
          "coloraxis": {
           "colorbar": {
            "outlinewidth": 0,
            "ticks": ""
           }
          },
          "colorscale": {
           "diverging": [
            [
             0,
             "#8e0152"
            ],
            [
             0.1,
             "#c51b7d"
            ],
            [
             0.2,
             "#de77ae"
            ],
            [
             0.3,
             "#f1b6da"
            ],
            [
             0.4,
             "#fde0ef"
            ],
            [
             0.5,
             "#f7f7f7"
            ],
            [
             0.6,
             "#e6f5d0"
            ],
            [
             0.7,
             "#b8e186"
            ],
            [
             0.8,
             "#7fbc41"
            ],
            [
             0.9,
             "#4d9221"
            ],
            [
             1,
             "#276419"
            ]
           ],
           "sequential": [
            [
             0,
             "#0d0887"
            ],
            [
             0.1111111111111111,
             "#46039f"
            ],
            [
             0.2222222222222222,
             "#7201a8"
            ],
            [
             0.3333333333333333,
             "#9c179e"
            ],
            [
             0.4444444444444444,
             "#bd3786"
            ],
            [
             0.5555555555555556,
             "#d8576b"
            ],
            [
             0.6666666666666666,
             "#ed7953"
            ],
            [
             0.7777777777777778,
             "#fb9f3a"
            ],
            [
             0.8888888888888888,
             "#fdca26"
            ],
            [
             1,
             "#f0f921"
            ]
           ],
           "sequentialminus": [
            [
             0,
             "#0d0887"
            ],
            [
             0.1111111111111111,
             "#46039f"
            ],
            [
             0.2222222222222222,
             "#7201a8"
            ],
            [
             0.3333333333333333,
             "#9c179e"
            ],
            [
             0.4444444444444444,
             "#bd3786"
            ],
            [
             0.5555555555555556,
             "#d8576b"
            ],
            [
             0.6666666666666666,
             "#ed7953"
            ],
            [
             0.7777777777777778,
             "#fb9f3a"
            ],
            [
             0.8888888888888888,
             "#fdca26"
            ],
            [
             1,
             "#f0f921"
            ]
           ]
          },
          "colorway": [
           "#636efa",
           "#EF553B",
           "#00cc96",
           "#ab63fa",
           "#FFA15A",
           "#19d3f3",
           "#FF6692",
           "#B6E880",
           "#FF97FF",
           "#FECB52"
          ],
          "font": {
           "color": "#2a3f5f"
          },
          "geo": {
           "bgcolor": "white",
           "lakecolor": "white",
           "landcolor": "#E5ECF6",
           "showlakes": true,
           "showland": true,
           "subunitcolor": "white"
          },
          "hoverlabel": {
           "align": "left"
          },
          "hovermode": "closest",
          "mapbox": {
           "style": "light"
          },
          "paper_bgcolor": "white",
          "plot_bgcolor": "#E5ECF6",
          "polar": {
           "angularaxis": {
            "gridcolor": "white",
            "linecolor": "white",
            "ticks": ""
           },
           "bgcolor": "#E5ECF6",
           "radialaxis": {
            "gridcolor": "white",
            "linecolor": "white",
            "ticks": ""
           }
          },
          "scene": {
           "xaxis": {
            "backgroundcolor": "#E5ECF6",
            "gridcolor": "white",
            "gridwidth": 2,
            "linecolor": "white",
            "showbackground": true,
            "ticks": "",
            "zerolinecolor": "white"
           },
           "yaxis": {
            "backgroundcolor": "#E5ECF6",
            "gridcolor": "white",
            "gridwidth": 2,
            "linecolor": "white",
            "showbackground": true,
            "ticks": "",
            "zerolinecolor": "white"
           },
           "zaxis": {
            "backgroundcolor": "#E5ECF6",
            "gridcolor": "white",
            "gridwidth": 2,
            "linecolor": "white",
            "showbackground": true,
            "ticks": "",
            "zerolinecolor": "white"
           }
          },
          "shapedefaults": {
           "line": {
            "color": "#2a3f5f"
           }
          },
          "ternary": {
           "aaxis": {
            "gridcolor": "white",
            "linecolor": "white",
            "ticks": ""
           },
           "baxis": {
            "gridcolor": "white",
            "linecolor": "white",
            "ticks": ""
           },
           "bgcolor": "#E5ECF6",
           "caxis": {
            "gridcolor": "white",
            "linecolor": "white",
            "ticks": ""
           }
          },
          "title": {
           "x": 0.05
          },
          "xaxis": {
           "automargin": true,
           "gridcolor": "white",
           "linecolor": "white",
           "ticks": "",
           "title": {
            "standoff": 15
           },
           "zerolinecolor": "white",
           "zerolinewidth": 2
          },
          "yaxis": {
           "automargin": true,
           "gridcolor": "white",
           "linecolor": "white",
           "ticks": "",
           "title": {
            "standoff": 15
           },
           "zerolinecolor": "white",
           "zerolinewidth": 2
          }
         }
        },
        "title": {
         "text": "Topic Sentiment Analysis"
        },
        "xaxis": {
         "anchor": "y",
         "domain": [
          0,
          1
         ],
         "title": {
          "text": "Topic ID"
         }
        },
        "yaxis": {
         "anchor": "x",
         "domain": [
          0,
          1
         ],
         "title": {
          "text": "Sentiment Score"
         }
        }
       }
      }
     },
     "metadata": {},
     "output_type": "display_data"
    }
   ],
   "source": [
    "import nltk\n",
    "from nltk.sentiment.vader import SentimentIntensityAnalyzer\n",
    "import pandas as pd\n",
    "import plotly.express as px\n",
    "\n",
    "nltk.download('vader_lexicon')\n",
    "sid = SentimentIntensityAnalyzer()\n",
    "\n",
    "def get_topic_sentiment(model, feature_names, docs_per_topic=100):\n",
    "    \"\"\"\n",
    "    Assign sentiment scores to each topic by analyzing:\n",
    "    1. Top topic words\n",
    "    2. Representative documents\n",
    "    \"\"\"\n",
    "    # Get document-topic matrix\n",
    "    doc_topic = model.transform(dt_matrix)\n",
    "    \n",
    "    # Initialize results\n",
    "    topic_sentiments = []\n",
    "    \n",
    "    for topic_idx in range(model.n_components):\n",
    "        # Get top words\n",
    "        top_words = [feature_names[i] for i in model.components_[topic_idx].argsort()[-10:][::-1]]\n",
    "        \n",
    "        # Get most representative documents\n",
    "        doc_indices = doc_topic[:, topic_idx].argsort()[-docs_per_topic:][::-1]\n",
    "        representative_docs = [processed_texts[i] for i in doc_indices]\n",
    "        \n",
    "        # Calculate scores\n",
    "        word_scores = [sid.polarity_scores(word)['compound'] for word in top_words]\n",
    "        doc_scores = [sid.polarity_scores(doc)['compound'] for doc in representative_docs]\n",
    "        \n",
    "        # Weighted average (60% docs, 40% words)\n",
    "        combined_score = 0.6*np.mean(doc_scores) + 0.4*np.mean(word_scores)\n",
    "        \n",
    "        # Classify\n",
    "        if combined_score >= 0.05:\n",
    "            sentiment = \"Positive\"\n",
    "        elif combined_score <= -0.05:\n",
    "            sentiment = \"Negative\"\n",
    "        else:\n",
    "            sentiment = \"Neutral\"\n",
    "        \n",
    "        topic_sentiments.append({\n",
    "            'topic_id': topic_idx,\n",
    "            'top_words': top_words,\n",
    "            'sentiment_score': combined_score,\n",
    "            'sentiment': sentiment,\n",
    "            'representative_docs': representative_docs[:3]  # Sample docs\n",
    "        })\n",
    "    \n",
    "    return topic_sentiments\n",
    "\n",
    "# Get sentiment-labeled topics\n",
    "topic_sentiments = get_topic_sentiment(lda, tf_feature_names)\n",
    "\n",
    "# Create DataFrame\n",
    "df_sentiment = pd.DataFrame(topic_sentiments)\n",
    "\n",
    "# Interactive bar plot\n",
    "fig = px.bar(df_sentiment, \n",
    "             x='topic_id', y='sentiment_score',\n",
    "             color='sentiment',\n",
    "             hover_data=['top_words'],\n",
    "             title='Topic Sentiment Analysis',\n",
    "             labels={'topic_id': 'Topic ID', 'sentiment_score': 'Sentiment Score'})\n",
    "fig.show()"
   ]
  },
  {
   "cell_type": "code",
   "execution_count": 30,
   "id": "0556001f",
   "metadata": {},
   "outputs": [
    {
     "name": "stdout",
     "output_type": "stream",
     "text": [
      "sentiment                                                keywords  negative  \\\n",
      "dominant_topic                                                                \n",
      "0               climate change climate change crisis climate c...  0.437063   \n",
      "1               carbon footprint carbon footprint energy susta...  0.214953   \n",
      "2                   carbon climate emission change climate change  0.251701   \n",
      "\n",
      "sentiment        neutral  positive  \n",
      "dominant_topic                      \n",
      "0               0.150350  0.412587  \n",
      "1               0.084112  0.700935  \n",
      "2               0.108844  0.639456  \n"
     ]
    },
    {
     "data": {
      "image/png": "[encoded data removed]",
      "text/plain": [
       "<Figure size 1000x600 with 1 Axes>"
      ]
     },
     "metadata": {},
     "output_type": "display_data"
    }
   ],
   "source": [
    "# Analyze each document\n",
    "sentiment_results = []\n",
    "for doc in processed_texts:\n",
    "    scores = sid.polarity_scores(doc)\n",
    "    sentiment_results.append({\n",
    "        'text': doc,\n",
    "        'positive': scores['pos'],\n",
    "        'negative': scores['neg'],\n",
    "        'neutral': scores['neu'],\n",
    "        'compound': scores['compound']\n",
    "    })\n",
    "\n",
    "# Convert to DataFrame\n",
    "df_sentiment = pd.DataFrame(sentiment_results)\n",
    "\n",
    "def classify_sentiment(compound_score):\n",
    "    if compound_score >= 0.05:\n",
    "        return 'positive'\n",
    "    elif compound_score <= -0.05:\n",
    "        return 'negative'\n",
    "    else:\n",
    "        return 'neutral'\n",
    "\n",
    "df_sentiment['sentiment'] = df_sentiment['compound'].apply(classify_sentiment)\n",
    "\n",
    "# Get dominant topic for each document\n",
    "doc_topics = lda.transform(dt_matrix)\n",
    "df_sentiment['dominant_topic'] = doc_topics.argmax(axis=1)\n",
    "\n",
    "# Group by topic and analyze sentiment distribution\n",
    "topic_sentiment = df_sentiment.groupby('dominant_topic')['sentiment'].value_counts(normalize=True).unstack()\n",
    "topic_sentiment = topic_sentiment.fillna(0)\n",
    "\n",
    "# Add topic keywords\n",
    "topic_keywords = {\n",
    "    0: \" \".join([tf_feature_names[i] for i in lda.components_[0].argsort()[-5:][::-1]]),\n",
    "    1: \" \".join([tf_feature_names[i] for i in lda.components_[1].argsort()[-5:][::-1]]),\n",
    "    2: \" \".join([tf_feature_names[i] for i in lda.components_[2].argsort()[-5:][::-1]])\n",
    "}\n",
    "topic_sentiment['keywords'] = topic_sentiment.index.map(topic_keywords)\n",
    "\n",
    "print(topic_sentiment[['keywords', 'negative', 'neutral', 'positive']])\n",
    "\n",
    "topic_sentiment[['negative', 'neutral', 'positive']].plot(\n",
    "    kind='bar', \n",
    "    stacked=True,\n",
    "    figsize=(10, 6),\n",
    "    color=[\"#c31a1a\", \"#454545\", \"#00da00\"]\n",
    ")\n",
    "plt.title(\"Sentiment Distribution Across Topics\")\n",
    "plt.xlabel(\"Topic ID\")\n",
    "plt.ylabel(\"Proportion\")\n",
    "plt.xticks(rotation=0)\n",
    "plt.legend(title='Sentiment')\n",
    "plt.show()"
   ]
  },
  {
   "cell_type": "markdown",
   "id": "4f7be8fe",
   "metadata": {},
   "source": [
    "Supervised Naive bayes classifier"
   ]
  },
  {
   "cell_type": "code",
   "execution_count": 33,
   "id": "c792b06e",
   "metadata": {},
   "outputs": [
    {
     "name": "stdout",
     "output_type": "stream",
     "text": [
      "Original samples: 540\n",
      "Training samples: 378 (70.0%)\n",
      "Testing samples: 108 (20.0%)\n",
      "Validation samples: 54 (10.0%)\n",
      "\n",
      "Test Set Performance:\n",
      "              precision    recall  f1-score   support\n",
      "\n",
      "    negative       0.77      0.73      0.75        37\n",
      "     neutral       1.00      0.14      0.25        14\n",
      "    positive       0.77      0.96      0.86        57\n",
      "\n",
      "    accuracy                           0.78       108\n",
      "   macro avg       0.85      0.61      0.62       108\n",
      "weighted avg       0.80      0.78      0.74       108\n",
      "\n",
      "\n",
      "Validation Set Performance (Unseen Data):\n",
      "              precision    recall  f1-score   support\n",
      "\n",
      "    negative       0.72      0.72      0.72        18\n",
      "     neutral       0.75      0.43      0.55         7\n",
      "    positive       0.81      0.90      0.85        29\n",
      "\n",
      "    accuracy                           0.78        54\n",
      "   macro avg       0.76      0.68      0.71        54\n",
      "weighted avg       0.77      0.78      0.77        54\n",
      "\n",
      "\n",
      "Test Set Confidence Stats:\n",
      "Average: 0.82\n",
      "Minimum: 0.44\n",
      "% Samples with confidence > 0.7: 72.2%\n",
      "\n",
      "Validation Set Confidence Stats:\n",
      "Average: 0.82\n",
      "Minimum: 0.43\n",
      "% Samples with confidence > 0.7: 70.4%\n"
     ]
    }
   ],
   "source": [
    "from sklearn.feature_extraction.text import TfidfVectorizer\n",
    "from sklearn.model_selection import train_test_split\n",
    "from sklearn.naive_bayes import MultinomialNB\n",
    "from sklearn.metrics import classification_report\n",
    "\n",
    "# Use your existing sentiment-labeled data\n",
    "X = df_sentiment['text']  # Text documents\n",
    "y = df_sentiment['sentiment']  # Pseudo-labels from VADER\n",
    "\n",
    "# First split: 10% for final validation, 90% for train/test\n",
    "X_temp, X_val, y_temp, y_val = train_test_split(\n",
    "    X, y, \n",
    "    test_size=0.1, \n",
    "    random_state=42,  # For reproducibility\n",
    "    stratify=y  # Maintain class distribution\n",
    ")\n",
    "\n",
    "# Second split: 80% training, 20% testing (of the remaining 90%)\n",
    "X_train, X_test, y_train, y_test = train_test_split(\n",
    "    X_temp, y_temp,\n",
    "    test_size=0.222,  # 0.2/0.9 ≈ 0.222 to get 20% of original\n",
    "    random_state=42,\n",
    "    stratify=y_temp\n",
    ")\n",
    "\n",
    "# Verify the splits\n",
    "print(f\"Original samples: {len(X)}\")\n",
    "print(f\"Training samples: {len(X_train)} ({len(X_train)/len(X):.1%})\")\n",
    "print(f\"Testing samples: {len(X_test)} ({len(X_test)/len(X):.1%})\")\n",
    "print(f\"Validation samples: {len(X_val)} ({len(X_val)/len(X):.1%})\")\n",
    "\n",
    "# TF-IDF Vectorizer with n-grams\n",
    "tfidf = TfidfVectorizer(\n",
    "    max_features=5000,\n",
    "    ngram_range=(1, 2),\n",
    "    stop_words='english'\n",
    ")\n",
    "\n",
    "# Fit ONLY on training data\n",
    "X_train_tfidf = tfidf.fit_transform(X_train)\n",
    "X_test_tfidf = tfidf.transform(X_test)\n",
    "X_val_tfidf = tfidf.transform(X_val)  # Final validation set\n",
    "\n",
    "# Initialize and train classifier\n",
    "nb_clf = MultinomialNB(alpha=0.1)\n",
    "nb_clf.fit(X_train_tfidf, y_train)\n",
    "\n",
    "# 1. Evaluate on test set (for model development)\n",
    "y_pred_test = nb_clf.predict(X_test_tfidf)\n",
    "print(\"\\nTest Set Performance:\")\n",
    "print(classification_report(y_test, y_pred_test))\n",
    "\n",
    "# 2. Evaluate on validation set (final unbiased evaluation)\n",
    "y_pred_val = nb_clf.predict(X_val_tfidf)\n",
    "print(\"\\nValidation Set Performance (Unseen Data):\")\n",
    "print(classification_report(y_val, y_pred_val))\n",
    "\n",
    "# Confidence analysis\n",
    "def print_confidence_stats(proba, dataset_name):\n",
    "    confidence = np.max(proba, axis=1)\n",
    "    print(f\"\\n{dataset_name} Confidence Stats:\")\n",
    "    print(f\"Average: {np.mean(confidence):.2f}\")\n",
    "    print(f\"Minimum: {np.min(confidence):.2f}\")\n",
    "    print(f\"% Samples with confidence > 0.7: {np.mean(confidence > 0.7):.1%}\")\n",
    "\n",
    "print_confidence_stats(nb_clf.predict_proba(X_test_tfidf), \"Test Set\")\n",
    "print_confidence_stats(nb_clf.predict_proba(X_val_tfidf), \"Validation Set\")\n"
   ]
  }
 ],
 "metadata": {
  "kernelspec": {
   "display_name": "base",
   "language": "python",
   "name": "python3"
  },
  "language_info": {
   "codemirror_mode": {
    "name": "ipython",
    "version": 3
   },
   "file_extension": ".py",
   "mimetype": "text/x-python",
   "name": "python",
   "nbconvert_exporter": "python",
   "pygments_lexer": "ipython3",
   "version": "3.12.4"
  }
 },
 "nbformat": 4,
 "nbformat_minor": 5
}
