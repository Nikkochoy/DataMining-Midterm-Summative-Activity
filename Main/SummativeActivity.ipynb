{
 "cells": [
  {
   "cell_type": "code",
   "execution_count": null,
   "id": "initial_id",
   "metadata": {
    "ExecuteTime": {
     "end_time": "2025-06-29T14:24:34.503700Z",
     "start_time": "2025-06-29T14:24:34.496772Z"
    },
    "collapsed": true
   },
   "outputs": [
    {
     "name": "stderr",
     "output_type": "stream",
     "text": [
      "[nltk_data] Downloading package stopwords to\n",
      "[nltk_data]     C:\\Users\\Admin\\AppData\\Roaming\\nltk_data...\n",
      "[nltk_data]   Package stopwords is already up-to-date!\n",
      "[nltk_data] Downloading package wordnet to\n",
      "[nltk_data]     C:\\Users\\Admin\\AppData\\Roaming\\nltk_data...\n",
      "[nltk_data]   Package wordnet is already up-to-date!\n"
     ]
    }
   ],
   "source": [
    "import pandas as pd\n",
    "import re\n",
    "import nltk\n",
    "from nltk.corpus import stopwords\n",
    "from nltk.stem import WordNetLemmatizer\n",
    "from sklearn.feature_extraction.text import CountVectorizer\n",
    "from sklearn.decomposition import LatentDirichletAllocation\n",
    "\n",
    "nltk.download('stopwords')\n",
    "nltk.download('wordnet')\n",
    "\n",
    "df = pd.read_csv('../data/merged_data.csv')\n",
    "texts = df['Tweet'].dropna().tolist()"
   ]
  },
  {
   "cell_type": "code",
   "execution_count": null,
   "id": "c472e45a615f7e73",
   "metadata": {
    "ExecuteTime": {
     "end_time": "2025-06-29T14:24:35.636256Z",
     "start_time": "2025-06-29T14:24:34.514055Z"
    }
   },
   "outputs": [
    {
     "name": "stdout",
     "output_type": "stream",
     "text": [
      "Topic 1: climate change\n",
      "Topic 2: carbon footprint\n",
      "Topic 3: carbon climate\n"
     ]
    }
   ],
   "source": [
    "def preprocess(text, lemmatizer, stop_words):\n",
    "    # Lowercase\n",
    "    text = text.lower()\n",
    "    # Remove URLs, mentions, hashtags\n",
    "    text = re.sub(r\"http\\S+|www\\.\\S+\", \"\", text)\n",
    "    text = re.sub(r\"@\\w+|#\", \"\", text)\n",
    "    # Remove non-alphabetic characters\n",
    "    text = re.sub(r\"[^a-z\\s]\", \"\", text)\n",
    "    # Tokenize\n",
    "    tokens = text.split()\n",
    "    # Remove stopwords and short tokens\n",
    "    tokens = [t for t in tokens if t not in stop_words and len(t) > 2]\n",
    "    # Lemmatize\n",
    "    tokens = [lemmatizer.lemmatize(t) for t in tokens]\n",
    "    return \" \".join(tokens)\n",
    "\n",
    "base_stops = stopwords.words('english')\n",
    "lemmatizer = WordNetLemmatizer()\n",
    "\n",
    "\n",
    "processed_texts = [preprocess(t, lemmatizer, base_stops) for t in texts]\n",
    "\n",
    "vectorizer = CountVectorizer(max_df=0.8, min_df=2, max_features=1500, ngram_range=(1,3))\n",
    "dt_matrix = vectorizer.fit_transform(processed_texts)\n",
    "\n",
    "n_topics = 3  \n",
    "lda = LatentDirichletAllocation(n_components=n_topics,\n",
    "                                max_iter=100,\n",
    "                                learning_method='online',\n",
    "                                random_state=42,\n",
    "                                doc_topic_prior=0.1,   \n",
    "                                topic_word_prior=0.01  \n",
    "                            )\n",
    "lda.fit(dt_matrix)\n",
    "\n",
    "\n",
    "def display_topics(model, feature_names, no_top_words=3):\n",
    "    for idx, topic in enumerate(model.components_):\n",
    "       \n",
    "        sorted_indices = topic.argsort()[:-no_top_words*2 - 1:-1]\n",
    "\n",
    "        unique_terms = []\n",
    "        for i in sorted_indices:\n",
    "            term = feature_names[i]\n",
    "            if term not in unique_terms:\n",
    "                unique_terms.append(term)\n",
    "            \n",
    "\n",
    "        print(f\"Topic {idx + 1}: {' '.join(unique_terms)}\")\n",
    "\n",
    "tf_feature_names = vectorizer.get_feature_names_out()\n",
    "display_topics(lda, tf_feature_names, 1)\n"
   ]
  },
  {
   "cell_type": "markdown",
   "id": "a676d55b",
   "metadata": {},
   "source": [
    "performance metrics"
   ]
  },
  {
   "cell_type": "code",
   "execution_count": null,
   "id": "7a283417",
   "metadata": {},
   "outputs": [
    {
     "name": "stdout",
     "output_type": "stream",
     "text": [
      "\n",
      "=== Model Performance Metrics ===\n",
      "Perplexity: 1160.34\n",
      "Topic Distinctiveness: 0.7333\n",
      "Topic Coherence (PMI): 0.1830\n",
      "Topic Diversity: 0.5977\n",
      "\n",
      "Visualization error: module 'pyLDAvis' has no attribute 'sklearn'\n",
      "Try: pip install pyLDAvis==3.3.1\n"
     ]
    },
    {
     "data": {
      "image/png": "[encoded data removed]",
      "text/plain": [
       "<Figure size 1000x500 with 1 Axes>"
      ]
     },
     "metadata": {},
     "output_type": "display_data"
    }
   ],
   "source": [
    "import numpy as np\n",
    "import matplotlib.pyplot as plt\n",
    "from sklearn.metrics import pairwise_distances\n",
    "import pyLDAvis\n",
    "\n",
    "\n",
    "# Performance Evaluation Functions\n",
    "def calculate_topic_distinctiveness(components, feature_names, top_n=5):\n",
    "    \"\"\"Measure how distinct topics are from each other (0-1 scale)\"\"\"\n",
    "    top_words_per_topic = []\n",
    "    for topic in components:\n",
    "        top_words_idx = topic.argsort()[-top_n:][::-1]\n",
    "        top_words_per_topic.append(set(feature_names[top_words_idx]))\n",
    "    \n",
    "    distinctiveness_scores = []\n",
    "    for i, topic_words in enumerate(top_words_per_topic):\n",
    "        other_topics = [set(t) for j, t in enumerate(top_words_per_topic) if j != i]\n",
    "        overlap_scores = [len(topic_words & other) for other in other_topics]\n",
    "        distinctiveness_scores.append(1 - np.mean(overlap_scores)/top_n)\n",
    "    \n",
    "    return np.mean(distinctiveness_scores)\n",
    "\n",
    "def calculate_topic_coherence(dt_matrix, components, feature_names, top_n=5):\n",
    "    \"\"\"Custom coherence metric using Pointwise Mutual Information\"\"\"\n",
    "    coherence_scores = []\n",
    "    for topic in components:\n",
    "        top_words_idx = topic.argsort()[-top_n:][::-1]\n",
    "        word_pairs = [(i, j) for i in top_words_idx for j in top_words_idx if i < j]\n",
    "        \n",
    "        if not word_pairs:\n",
    "            continue\n",
    "            \n",
    "        # Convert sparse matrix to dense for faster calculations\n",
    "        dense_matrix = (dt_matrix > 0).astype(int).toarray()\n",
    "        pmi_scores = []\n",
    "        for i, j in word_pairs:\n",
    "            # Joint probability\n",
    "            p_ij = np.mean(dense_matrix[:, i] * dense_matrix[:, j])\n",
    "            # Individual probabilities\n",
    "            p_i = np.mean(dense_matrix[:, i])\n",
    "            p_j = np.mean(dense_matrix[:, j])\n",
    "            \n",
    "            # Avoid log(0)\n",
    "            if p_ij > 1e-12 and p_i > 1e-12 and p_j > 1e-12:\n",
    "                pmi_scores.append(np.log(p_ij / (p_i * p_j)))\n",
    "        \n",
    "        if pmi_scores:\n",
    "            coherence_scores.append(np.mean(pmi_scores))\n",
    "    \n",
    "    return np.mean(coherence_scores) if coherence_scores else 0\n",
    "\n",
    "\n",
    "# Performance Metrics Calculation\n",
    "print(\"\\n=== Model Performance Metrics ===\")\n",
    "print(f\"Perplexity: {lda.perplexity(dt_matrix):.2f}\")\n",
    "\n",
    "distinctiveness = calculate_topic_distinctiveness(lda.components_, tf_feature_names)\n",
    "print(f\"Topic Distinctiveness: {distinctiveness:.4f}\")\n",
    "\n",
    "coherence = calculate_topic_coherence(dt_matrix, lda.components_, tf_feature_names)\n",
    "print(f\"Topic Coherence (PMI): {coherence:.4f}\")\n",
    "\n",
    "# Topic Diversity (based on cosine similarity)\n",
    "topic_diversity = 1 - pairwise_distances(lda.components_, metric='cosine').mean()\n",
    "print(f\"Topic Diversity: {topic_diversity:.4f}\")\n",
    "\n",
    "# Topic Distribution Plot\n",
    "plt.figure(figsize=(10, 5))\n",
    "topic_probs = lda.transform(dt_matrix)\n",
    "plt.bar(range(n_topics), topic_probs.mean(axis=0))\n",
    "plt.title(\"Average Topic Distribution Across Documents\")\n",
    "plt.xlabel(\"Topic ID\")\n",
    "plt.ylabel(\"Mean Probability\")\n",
    "plt.xticks(range(n_topics), [f\"Topic {i+1}\" for i in range(n_topics)])\n",
    "plt.show()\n"
   ]
  },
  {
   "cell_type": "markdown",
   "id": "d94fcedc",
   "metadata": {},
   "source": [
    "- **Perplexity**: Lower is better (yours is ~{lda.perplexity(dt_matrix):.2f})\n",
    "  - < 200: Excellent\n",
    "  - 200-500: Good\n",
    "  - > 500: Needs improvement\n",
    "\n",
    "- **Topic Distinctiveness**: Target > 0.7 (yours: {distinctiveness:.4f})\n",
    "- **Topic Coherence**: PMI > 1.0 is good (yours: {coherence:.4f})\n",
    "- **Topic Diversity**: Closer to 1 is better (yours: {topic_diversity:.4f})"
   ]
  }
 ],
 "metadata": {
  "kernelspec": {
   "display_name": "base",
   "language": "python",
   "name": "python3"
  },
  "language_info": {
   "codemirror_mode": {
    "name": "ipython",
    "version": 3
   },
   "file_extension": ".py",
   "mimetype": "text/x-python",
   "name": "python",
   "nbconvert_exporter": "python",
   "pygments_lexer": "ipython3",
   "version": "3.12.4"
  }
 },
 "nbformat": 4,
 "nbformat_minor": 5
}
