{
 "cells": [
  {
   "metadata": {},
   "cell_type": "markdown",
   "source": [
    "# Summative Activity Main Notebook\n",
    "\n",
    "> Team kotl-mining\n",
    "\n",
    "- LDA\n",
    "- Sentiment Analysis (For truth labels)\n",
    "- Naive Bayes Model\n",
    "- Rule-based Model"
   ],
   "id": "de56955985ad180c"
  },
  {
   "metadata": {},
   "cell_type": "markdown",
   "source": [
    "## Setup\n",
    "Import libraries and download common words using `nltk` for pre-processing"
   ],
   "id": "76a80d262a042123"
  },
  {
   "cell_type": "code",
   "id": "initial_id",
   "metadata": {
    "collapsed": true,
    "ExecuteTime": {
     "end_time": "2025-06-30T14:44:09.162580Z",
     "start_time": "2025-06-30T14:44:09.153668Z"
    }
   },
   "source": [
    "import pandas as pd\n",
    "import re\n",
    "import nltk\n",
    "from nltk.corpus import stopwords\n",
    "from nltk.stem import WordNetLemmatizer\n",
    "from sklearn.feature_extraction.text import CountVectorizer\n",
    "from sklearn.decomposition import LatentDirichletAllocation\n",
    "\n",
    "# Isang beses lang iru-run :D\n",
    "nltk.download('stopwords')\n",
    "nltk.download('wordnet')\n",
    "\n",
    "df = pd.read_csv('../data/tweets.csv')\n",
    "texts = df['Tweet'].dropna().tolist()"
   ],
   "outputs": [
    {
     "name": "stderr",
     "output_type": "stream",
     "text": [
      "[nltk_data] Downloading package stopwords to\n",
      "[nltk_data]     C:\\Users\\yukiro\\AppData\\Roaming\\nltk_data...\n",
      "[nltk_data]   Package stopwords is already up-to-date!\n",
      "[nltk_data] Downloading package wordnet to\n",
      "[nltk_data]     C:\\Users\\yukiro\\AppData\\Roaming\\nltk_data...\n",
      "[nltk_data]   Package wordnet is already up-to-date!\n"
     ]
    }
   ],
   "execution_count": 123
  },
  {
   "metadata": {},
   "cell_type": "markdown",
   "source": [
    "## Latent-Dirichlet Allocation\n",
    "Perform pre-processing and extract top topics."
   ],
   "id": "9b1432f2d0d91818"
  },
  {
   "cell_type": "code",
   "id": "c472e45a615f7e73",
   "metadata": {
    "ExecuteTime": {
     "end_time": "2025-06-30T14:44:12.642071Z",
     "start_time": "2025-06-30T14:44:09.198681Z"
    }
   },
   "source": [
    "def preprocess(text, lemmatizer, stop_words):\n",
    "    # Lowercase\n",
    "    text = text.lower()\n",
    "    # Remove URLs, mentions, hashtags\n",
    "    text = re.sub(r\"http\\S+|www\\.\\S+\", \"\", text)\n",
    "    text = re.sub(r\"@\\w+|#\", \"\", text)\n",
    "    # Remove non-alphabetic characters\n",
    "    text = re.sub(r\"[^a-z\\s]\", \"\", text)\n",
    "    # Tokenize\n",
    "    tokens = text.split()\n",
    "    # Remove stopwords and short tokens\n",
    "    tokens = [t for t in tokens if t not in stop_words and len(t) > 2]\n",
    "    # Lemmatize\n",
    "    tokens = [lemmatizer.lemmatize(t) for t in tokens]\n",
    "    return \" \".join(tokens)\n",
    "\n",
    "\n",
    "base_stops = stopwords.words('english')\n",
    "lemmatizer = WordNetLemmatizer()\n",
    "\n",
    "processed_texts = [preprocess(t, lemmatizer, base_stops) for t in texts]\n",
    "\n",
    "vectorizer = CountVectorizer(max_df=0.8, min_df=2, max_features=1500, ngram_range=(1, 3))\n",
    "dt_matrix = vectorizer.fit_transform(processed_texts)\n",
    "\n",
    "n_topics = 3\n",
    "lda = LatentDirichletAllocation(n_components=n_topics,\n",
    "                                max_iter=100,\n",
    "                                learning_method='online',\n",
    "                                random_state=42,\n",
    "                                doc_topic_prior=0.1,\n",
    "                                topic_word_prior=0.01\n",
    "                                )\n",
    "lda.fit(dt_matrix)\n",
    "\n",
    "\n",
    "def display_topics(model, feature_names, no_top_words=3):\n",
    "    for idx, topic in enumerate(model.components_):\n",
    "\n",
    "        sorted_indices = topic.argsort()[:-no_top_words * 2 - 1:-1]\n",
    "\n",
    "        unique_terms = []\n",
    "        for i in sorted_indices:\n",
    "            term = feature_names[i]\n",
    "            if term not in unique_terms:\n",
    "                unique_terms.append(term)\n",
    "\n",
    "        print(f\"Topic {idx + 1}: {' '.join(unique_terms)}\")\n",
    "\n",
    "\n",
    "tf_feature_names = vectorizer.get_feature_names_out()\n",
    "display_topics(lda, tf_feature_names, 1)\n"
   ],
   "outputs": [
    {
     "name": "stdout",
     "output_type": "stream",
     "text": [
      "Topic 1: climate change\n",
      "Topic 2: climate change\n",
      "Topic 3: carbon climate\n"
     ]
    }
   ],
   "execution_count": 124
  },
  {
   "cell_type": "markdown",
   "id": "a676d55b",
   "metadata": {},
   "source": [
    "## Evaluate Results\n",
    "Evaluate results of LDA.\n",
    "\n",
    "### Scale:\n",
    "- **Perplexity**: Lower is better\n",
    "  - Less than 200: Excellent\n",
    "  - 200-500: Good\n",
    "  - Greater than 500: Needs improvement\n",
    "\n",
    "- **Topic Distinctiveness**: Target > 0.7\n",
    "- **Topic Coherence**: PMI > 1.0 is good\n",
    "- **Topic Diversity**: Closer to 1 is better"
   ]
  },
  {
   "cell_type": "code",
   "id": "7a283417",
   "metadata": {
    "ExecuteTime": {
     "end_time": "2025-06-30T14:44:12.834126Z",
     "start_time": "2025-06-30T14:44:12.674694Z"
    }
   },
   "source": [
    "import matplotlib.pyplot as plt\n",
    "from sklearn.metrics import pairwise_distances\n",
    "\n",
    "\n",
    "# Performance Evaluation Functions\n",
    "def calculate_topic_distinctiveness(components, feature_names, top_n=5):\n",
    "    \"\"\"Measure how distinct topics are from each other (0-1 scale)\"\"\"\n",
    "    top_words_per_topic = []\n",
    "    for topic in components:\n",
    "        top_words_idx = topic.argsort()[-top_n:][::-1]\n",
    "        top_words_per_topic.append(set(feature_names[top_words_idx]))\n",
    "\n",
    "    distinctiveness_scores = []\n",
    "    for i, topic_words in enumerate(top_words_per_topic):\n",
    "        other_topics = [set(t) for j, t in enumerate(top_words_per_topic) if j != i]\n",
    "        overlap_scores = [len(topic_words & other) for other in other_topics]\n",
    "        distinctiveness_scores.append(1 - np.mean(overlap_scores) / top_n)\n",
    "\n",
    "    return np.mean(distinctiveness_scores)\n",
    "\n",
    "\n",
    "def calculate_topic_coherence(dt_matrix, components):\n",
    "    coherence_scores = []\n",
    "    for topic in components:\n",
    "        top_words_idx = topic.argsort()[-5:][::-1]\n",
    "        word_pairs = [(i, j) for i in top_words_idx for j in top_words_idx if i < j]\n",
    "\n",
    "        if not word_pairs:\n",
    "            continue\n",
    "\n",
    "        # Convert sparse matrix to dense for faster calculations\n",
    "        dense_matrix = (dt_matrix > 0).astype(int).toarray()\n",
    "        pmi_scores = []\n",
    "        for i, j in word_pairs:\n",
    "            # Joint probability\n",
    "            p_ij = np.mean(dense_matrix[:, i] * dense_matrix[:, j])\n",
    "            # Individual probabilities\n",
    "            p_i = np.mean(dense_matrix[:, i])\n",
    "            p_j = np.mean(dense_matrix[:, j])\n",
    "            # Consider log(0)\n",
    "            if p_ij > 1e-12 and p_i > 1e-12 and p_j > 1e-12:\n",
    "                pmi_scores.append(np.log(p_ij / (p_i * p_j)))\n",
    "\n",
    "        if pmi_scores:\n",
    "            coherence_scores.append(np.mean(pmi_scores))\n",
    "\n",
    "    return np.mean(coherence_scores) if coherence_scores else 0\n",
    "\n",
    "\n",
    "# Performance Metrics Calculation\n",
    "print(\"\\n=== Model Performance Metrics ===\")\n",
    "print(f\"Perplexity: {lda.perplexity(dt_matrix):.2f}\")\n",
    "\n",
    "distinctiveness = calculate_topic_distinctiveness(lda.components_, tf_feature_names)\n",
    "print(f\"Topic Distinctiveness: {distinctiveness:.4f}\")\n",
    "\n",
    "coherence = calculate_topic_coherence(dt_matrix, lda.components_)\n",
    "print(f\"Topic Coherence (PMI): {coherence:.4f}\")\n",
    "\n",
    "# Topic Diversity (based on cosine similarity)\n",
    "topic_diversity = 1 - pairwise_distances(lda.components_, metric='cosine').mean()\n",
    "print(f\"Topic Diversity: {topic_diversity:.4f}\")\n",
    "\n",
    "# Topic Distribution Plot\n",
    "plt.figure(figsize=(10, 5))\n",
    "topic_probs = lda.transform(dt_matrix)\n",
    "plt.bar(range(n_topics), topic_probs.mean(axis=0))\n",
    "plt.title(\"Average Topic Distribution Across Documents\")\n",
    "plt.xlabel(\"Topic ID\")\n",
    "plt.ylabel(\"Mean Probability\")\n",
    "plt.xticks(range(n_topics), [f\"Topic {i + 1}\" for i in range(n_topics)])\n",
    "plt.show()"
   ],
   "outputs": [
    {
     "name": "stdout",
     "output_type": "stream",
     "text": [
      "\n",
      "=== Model Performance Metrics ===\n",
      "Perplexity: 1161.34\n",
      "Topic Distinctiveness: 0.4000\n",
      "Topic Coherence (PMI): -0.3133\n",
      "Topic Diversity: 0.7182\n"
     ]
    },
    {
     "data": {
      "text/plain": [
       "<Figure size 1000x500 with 1 Axes>"
      ],
      "image/png": "[encoded data removed]"
     },
     "metadata": {},
     "output_type": "display_data"
    }
   ],
   "execution_count": 125
  },
  {
   "cell_type": "markdown",
   "id": "eb8e9451",
   "metadata": {},
   "source": [
    "## Sentiment Analysis\n",
    "Use sentiment analysis to create truth labels for the dataset."
   ]
  },
  {
   "cell_type": "code",
   "id": "bc39e374",
   "metadata": {
    "ExecuteTime": {
     "end_time": "2025-06-30T14:44:13.093862Z",
     "start_time": "2025-06-30T14:44:12.863669Z"
    }
   },
   "source": [
    "import nltk\n",
    "from nltk.sentiment.vader import SentimentIntensityAnalyzer\n",
    "import pandas as pd\n",
    "\n",
    "nltk.download('vader_lexicon')\n",
    "sid = SentimentIntensityAnalyzer()\n",
    "\n",
    "# Analyze each document\n",
    "sentiment_results = []\n",
    "for doc in processed_texts:\n",
    "    scores = sid.polarity_scores(doc)\n",
    "    sentiment_results.append({\n",
    "        'text': doc,\n",
    "        'positive': scores['pos'],\n",
    "        'negative': scores['neg'],\n",
    "        'neutral': scores['neu'],\n",
    "        'compound': scores['compound']\n",
    "    })\n",
    "\n",
    "# Convert to DataFrame\n",
    "df_sentiment = pd.DataFrame(sentiment_results)\n",
    "\n",
    "\n",
    "def classify_sentiment(compound_score):\n",
    "    if compound_score >= 0.05:\n",
    "        return 'positive'\n",
    "    elif compound_score <= -0.05:\n",
    "        return 'negative'\n",
    "    else:\n",
    "        return 'neutral'\n",
    "\n",
    "\n",
    "df_sentiment['sentiment'] = df_sentiment['compound'].apply(classify_sentiment)\n",
    "\n",
    "df_sentiment[[\"text\", \"sentiment\"]].to_csv('../data/labeled_tweets.csv', index=False)  # Extract dataframe to data dir\n",
    "\n",
    "# Get dominant topic for each document\n",
    "doc_topics = lda.transform(dt_matrix)\n",
    "df_sentiment['dominant_topic'] = doc_topics.argmax(axis=1)\n",
    "\n",
    "# Group by topic and analyze sentiment distribution\n",
    "topic_sentiment = df_sentiment.groupby('dominant_topic')['sentiment'].value_counts(normalize=True).unstack()\n",
    "topic_sentiment = topic_sentiment.fillna(0)\n",
    "\n",
    "# Add topic keywords\n",
    "topic_keywords = {\n",
    "    0: \" \".join([tf_feature_names[i] for i in lda.components_[0].argsort()[-5:][::-1]]),\n",
    "    1: \" \".join([tf_feature_names[i] for i in lda.components_[1].argsort()[-5:][::-1]]),\n",
    "    2: \" \".join([tf_feature_names[i] for i in lda.components_[2].argsort()[-5:][::-1]])\n",
    "}\n",
    "topic_sentiment['keywords'] = topic_sentiment.index.map(topic_keywords)\n",
    "\n",
    "print(topic_sentiment[['keywords', 'negative', 'neutral', 'positive']])\n",
    "\n",
    "topic_sentiment[['negative', 'neutral', 'positive']].plot(\n",
    "    kind='bar',\n",
    "    stacked=True,\n",
    "    figsize=(10, 6),\n",
    "    color=[\"#c31a1a\", \"#454545\", \"#00da00\"]\n",
    ")\n",
    "plt.title(\"Sentiment Distribution Across Topics\")\n",
    "plt.xlabel(\"Topic ID\")\n",
    "plt.ylabel(\"Proportion\")\n",
    "plt.xticks(rotation=0)\n",
    "plt.legend(title='Sentiment')\n",
    "plt.show()"
   ],
   "outputs": [
    {
     "name": "stdout",
     "output_type": "stream",
     "text": [
      "sentiment                                                keywords  negative  \\\n",
      "dominant_topic                                                                \n",
      "0               climate change climate change crisis climate c...  0.590062   \n",
      "1                     climate change climate change global energy  0.317568   \n",
      "2                  carbon climate change climate change footprint  0.186147   \n",
      "\n",
      "sentiment        neutral  positive  \n",
      "dominant_topic                      \n",
      "0               0.130435  0.279503  \n",
      "1               0.054054  0.628378  \n",
      "2               0.168831  0.645022  \n"
     ]
    },
    {
     "name": "stderr",
     "output_type": "stream",
     "text": [
      "[nltk_data] Downloading package vader_lexicon to\n",
      "[nltk_data]     C:\\Users\\yukiro\\AppData\\Roaming\\nltk_data...\n",
      "[nltk_data]   Package vader_lexicon is already up-to-date!\n"
     ]
    },
    {
     "data": {
      "text/plain": [
       "<Figure size 1000x600 with 1 Axes>"
      ],
      "image/png": "[encoded data removed]"
     },
     "metadata": {},
     "output_type": "display_data"
    }
   ],
   "execution_count": 126
  },
  {
   "cell_type": "markdown",
   "id": "4f7be8fe",
   "metadata": {},
   "source": [
    "## Naive Bayes model\n",
    "Train and evaluate a Naive Bayes classification model from the generated labeled dataset"
   ]
  },
  {
   "cell_type": "code",
   "id": "c792b06e",
   "metadata": {
    "ExecuteTime": {
     "end_time": "2025-06-30T14:44:13.157082Z",
     "start_time": "2025-06-30T14:44:13.123511Z"
    }
   },
   "source": [
    "from sklearn.feature_extraction.text import TfidfVectorizer\n",
    "from sklearn.model_selection import train_test_split\n",
    "from sklearn.naive_bayes import MultinomialNB\n",
    "from sklearn.metrics import classification_report\n",
    "\n",
    "X = df_sentiment['text']  # tweets\n",
    "y = df_sentiment['sentiment']  # labels\n",
    "\n",
    "# First split: 10% for final validation, 90% for train/test\n",
    "X_temp, X_val, y_temp, y_val = train_test_split(\n",
    "    X, y,\n",
    "    test_size=0.1,\n",
    "    random_state=42,\n",
    "    stratify=y\n",
    ")\n",
    "\n",
    "# Second split: 80% training, 20% testing (of the remaining 90%)\n",
    "X_train, X_test, y_train, y_test = train_test_split(\n",
    "    X_temp, y_temp,\n",
    "    test_size=0.2,\n",
    "    random_state=42,\n",
    "    stratify=y_temp\n",
    ")\n",
    "\n",
    "# TF-IDF Vectorizer with n-grams\n",
    "tfidf = TfidfVectorizer(\n",
    "    max_features=5000,\n",
    "    ngram_range=(1, 2),\n",
    "    stop_words='english'\n",
    ")\n",
    "\n",
    "# Fit ONLY on training data\n",
    "X_train_tfidf = tfidf.fit_transform(X_train)\n",
    "X_test_tfidf = tfidf.transform(X_test)\n",
    "\n",
    "# Initialize and train classifier\n",
    "nb_clf = MultinomialNB(alpha=0.1)\n",
    "nb_clf.fit(X_train_tfidf, y_train)\n",
    "\n",
    "# Evaluate on test set\n",
    "y_pred_test = nb_clf.predict(X_test_tfidf)\n",
    "print(\"\\nTest Set Performance:\")\n",
    "print(classification_report(y_test, y_pred_test))\n"
   ],
   "outputs": [
    {
     "name": "stdout",
     "output_type": "stream",
     "text": [
      "\n",
      "Test Set Performance:\n",
      "              precision    recall  f1-score   support\n",
      "\n",
      "    negative       0.71      0.71      0.71        34\n",
      "     neutral       1.00      0.17      0.29        12\n",
      "    positive       0.77      0.92      0.84        52\n",
      "\n",
      "    accuracy                           0.76        98\n",
      "   macro avg       0.83      0.60      0.61        98\n",
      "weighted avg       0.78      0.76      0.73        98\n",
      "\n"
     ]
    }
   ],
   "execution_count": 127
  },
  {
   "metadata": {},
   "cell_type": "markdown",
   "source": [
    "## Rule-based Model\n",
    "Train and evaluate a Rule-based classification model from the generated labeled dataset"
   ],
   "id": "6fdcadd494487b10"
  },
  {
   "metadata": {
    "ExecuteTime": {
     "end_time": "2025-06-30T14:44:13.213331Z",
     "start_time": "2025-06-30T14:44:13.186237Z"
    }
   },
   "cell_type": "code",
   "source": [
    "# Generate lexicons using TF-IDF\n",
    "import pandas as pd\n",
    "import numpy as np\n",
    "from sklearn.feature_extraction.text import TfidfVectorizer\n",
    "from collections import defaultdict\n",
    "\n",
    "def generate_ngram_lexicons(df, min_freq, tfidf_threshold, top_n, text_column='text', sentiment_column='sentiment'):\n",
    "    # Initialize containers\n",
    "    unigram_lexicons = defaultdict(set)\n",
    "    bigram_lexicons = defaultdict(set)\n",
    "\n",
    "    # Create class documents\n",
    "    classes = df[sentiment_column].unique()\n",
    "    class_docs = {c: ' '.join(df[df[sentiment_column] == c][text_column]) for c in classes}\n",
    "\n",
    "    # Generate unigrams with TF-IDF\n",
    "    uni_vectorizer = TfidfVectorizer(ngram_range=(1, 1), min_df=min_freq)\n",
    "    uni_matrix = uni_vectorizer.fit_transform(class_docs.values())\n",
    "    uni_features = uni_vectorizer.get_feature_names_out()\n",
    "\n",
    "    # Generate bigrams with TF-IDF\n",
    "    bi_vectorizer = TfidfVectorizer(ngram_range=(2, 2), min_df=min_freq)\n",
    "    bi_matrix = bi_vectorizer.fit_transform(class_docs.values())\n",
    "    bi_features = bi_vectorizer.get_feature_names_out()\n",
    "\n",
    "    # Process unigrams\n",
    "    for i, sentiment_class in enumerate(classes):\n",
    "        scores = uni_matrix[i].toarray()[0]\n",
    "        top_indices = np.argsort(scores)[::-1][:top_n]\n",
    "        for idx in top_indices:\n",
    "            if scores[idx] > tfidf_threshold:\n",
    "                unigram_lexicons[sentiment_class].add(uni_features[idx])\n",
    "\n",
    "    # Process bigrams\n",
    "    for i, sentiment_class in enumerate(classes):\n",
    "        scores = bi_matrix[i].toarray()[0]\n",
    "        top_indices = np.argsort(scores)[::-1][:top_n]\n",
    "        for idx in top_indices:\n",
    "            if scores[idx] > tfidf_threshold:\n",
    "                bigram_lexicons[sentiment_class].add(bi_features[idx])\n",
    "\n",
    "    # Remove ambiguous n-grams\n",
    "    for lexicon in [unigram_lexicons, bigram_lexicons]:\n",
    "        all_ngrams = []\n",
    "        for words in lexicon.values():\n",
    "            all_ngrams.extend(list(words))\n",
    "        ngram_counts = pd.Series(all_ngrams).value_counts()\n",
    "        ambiguous = set(ngram_counts[ngram_counts > 1].index)\n",
    "\n",
    "        for sentiment_class in classes:\n",
    "            lexicon[sentiment_class] = lexicon[sentiment_class] - ambiguous\n",
    "\n",
    "    return dict(unigram_lexicons), dict(bigram_lexicons)\n",
    "\n",
    "# Split data\n",
    "# 80% training, 20% testing (of the remaining 90% from earlier)\n",
    "X_train, X_test, y_train, y_test = train_test_split(\n",
    "    X_temp, y_temp,\n",
    "    test_size=0.2,\n",
    "    random_state=42,\n",
    "    stratify=y_temp\n",
    ")\n",
    "train_df = pd.concat([X_train.reset_index(drop=True), y_train.reset_index(drop=True)], axis=1)\n",
    "test_df = pd.concat([X_test.reset_index(drop=True), y_test.reset_index(drop=True)], axis=1)\n",
    "\n",
    "# Generate lexicons\n",
    "uni_lex, bi_lex = generate_ngram_lexicons(train_df, min_freq=2, tfidf_threshold=0.08, top_n=50)\n",
    "\n",
    "# Display words\n",
    "print(\"UNIGRAM LEXICONS:\")\n",
    "for sentiment, words in uni_lex.items():\n",
    "    print(f\"\\n{sentiment.upper()} words ({len(words)}):\")\n",
    "    print(list(words))\n",
    "print(\"\\n\\nBIGRAM LEXICONS:\")\n",
    "for sentiment, phrases in bi_lex.items():\n",
    "    print(f\"\\n{sentiment.upper()} phrases ({len(phrases)}):\")\n",
    "    print(list(phrases))"
   ],
   "id": "2bf1632180b083ae",
   "outputs": [
    {
     "name": "stdout",
     "output_type": "stream",
     "text": [
      "UNIGRAM LEXICONS:\n",
      "\n",
      "POSITIVE words (7):\n",
      "['solution', 'support', 'future', 'sustainability', 'reduce', 'warming', 'like']\n",
      "\n",
      "NEUTRAL words (9):\n",
      "['weather', 'planet', 'sea', 'level', 'price', 'heminetwork', 'rising', 'understand', 'selling']\n",
      "\n",
      "NEGATIVE words (3):\n",
      "['time', 'need', 'crisis']\n",
      "\n",
      "\n",
      "BIGRAM LEXICONS:\n",
      "\n",
      "POSITIVE phrases (1):\n",
      "['reduce carbon']\n",
      "\n",
      "NEUTRAL phrases (3):\n",
      "['selling climate', 'impact climate', 'rising sea']\n",
      "\n",
      "NEGATIVE phrases (3):\n",
      "['due climate', 'climate emergency', 'greenhouse gas']\n"
     ]
    }
   ],
   "execution_count": 128
  },
  {
   "metadata": {},
   "cell_type": "markdown",
   "source": [
    "### Classification Rules\n",
    "Define and apply classification rules"
   ],
   "id": "6789973f70f54615"
  },
  {
   "metadata": {
    "ExecuteTime": {
     "end_time": "2025-06-30T14:44:13.257168Z",
     "start_time": "2025-06-30T14:44:13.251006Z"
    }
   },
   "cell_type": "code",
   "source": [
    "# Separate words\n",
    "positive_words = lexicons.get('positive', set())\n",
    "negative_words = lexicons.get('negative', set())\n",
    "neutral_words = lexicons.get('neutral', set())\n",
    "\n",
    "# Separate bigrams\n",
    "positive_phrases = list(bi_lex.get('positive', []))\n",
    "negative_phrases = list(bi_lex.get('negative', []))\n",
    "neutral_phrases = list(bi_lex.get('neutral', []))\n",
    "\n",
    "\n",
    "def classify(text):\n",
    "    words = text.split()\n",
    "\n",
    "    # Check bigrams\n",
    "    for phrase in positive_phrases:\n",
    "        if phrase in text:  # Phrase matching\n",
    "            return 'positive'\n",
    "    for phrase in negative_phrases:\n",
    "        if phrase in text:\n",
    "            return 'negative'\n",
    "\n",
    "    # Check single words\n",
    "    for phrase in positive_phrases:\n",
    "        if phrase in text:\n",
    "            return 'positive'\n",
    "    for phrase in negative_phrases:\n",
    "        if phrase in text:\n",
    "            return 'negative'\n",
    "\n",
    "    # Count sentiment words\n",
    "    pos_count = sum(1 for word in words if word in uni_lex.get('positive', []))\n",
    "    neg_count = sum(1 for word in words if word in uni_lex.get('negative', []))\n",
    "\n",
    "    # Neutral context override\n",
    "    if any(word in neutral_words for word in words):\n",
    "        if pos_count - neg_count >= 3:  # Strong positive bias needed\n",
    "            return 'positive'\n",
    "        elif neg_count - pos_count >= 3:  # Strong negative bias needed\n",
    "            return 'negative'\n",
    "        else:\n",
    "            return 'neutral'\n",
    "\n",
    "    # Score\n",
    "    sentiment_score = pos_count - neg_count\n",
    "    if sentiment_score > 0:\n",
    "        return 'positive'\n",
    "    elif sentiment_score < 0:\n",
    "        return 'negative'\n",
    "    else:\n",
    "        return 'neutral'"
   ],
   "id": "4e6876b4043ff078",
   "outputs": [],
   "execution_count": 129
  },
  {
   "metadata": {},
   "cell_type": "markdown",
   "source": [
    "### Evaluate Workflow\n",
    "Compare to truth labels."
   ],
   "id": "82f938036630c9a9"
  },
  {
   "metadata": {
    "ExecuteTime": {
     "end_time": "2025-06-30T14:44:13.310397Z",
     "start_time": "2025-06-30T14:44:13.294510Z"
    }
   },
   "cell_type": "code",
   "source": [
    "from sklearn.metrics import accuracy_score, f1_score\n",
    "\n",
    "test_df['predicted'] = test_df[\"text\"].apply(classify)\n",
    "\n",
    "# Classification report\n",
    "print(\"Detailed Classification Report:\")\n",
    "print(classification_report(test_df['sentiment'], test_df['predicted'], digits=4))\n",
    "\n",
    "# Overall accuracy\n",
    "accuracy = accuracy_score(test_df['sentiment'], test_df['predicted'])\n",
    "print(f\"\\nOverall Accuracy: {accuracy:.4f}\")\n",
    "\n",
    "# Weighted F1-score\n",
    "weighted_f1 = f1_score(test_df['sentiment'], test_df['predicted'], average='weighted')\n",
    "print(f\"Weighted F1-Score: {weighted_f1:.4f}\")"
   ],
   "id": "a164cd0fa1aca38d",
   "outputs": [
    {
     "name": "stdout",
     "output_type": "stream",
     "text": [
      "Detailed Classification Report:\n",
      "              precision    recall  f1-score   support\n",
      "\n",
      "    negative     0.8636    0.5588    0.6786        34\n",
      "     neutral     0.1818    0.6667    0.2857        12\n",
      "    positive     0.7812    0.4808    0.5952        52\n",
      "\n",
      "    accuracy                         0.5306        98\n",
      "   macro avg     0.6089    0.5688    0.5198        98\n",
      "weighted avg     0.7364    0.5306    0.5862        98\n",
      "\n",
      "\n",
      "Overall Accuracy: 0.5306\n",
      "Weighted F1-Score: 0.5862\n"
     ]
    }
   ],
   "execution_count": 130
  },
  {
   "metadata": {},
   "cell_type": "markdown",
   "source": [
    "## Unseen Data Testing\n",
    "Compare the performance of the Naive Bayes and Rule-based classifiers."
   ],
   "id": "147cee5fb9237a64"
  },
  {
   "metadata": {
    "ExecuteTime": {
     "end_time": "2025-06-30T14:44:13.369563Z",
     "start_time": "2025-06-30T14:44:13.344476Z"
    }
   },
   "cell_type": "code",
   "source": [
    "# Naive-Bayes\n",
    "print(\"NAIVE BAYES CLASSIFICATION RESULTS:\")\n",
    "X_val_tfidf = tfidf.transform(X_val)\n",
    "val_result = nb_clf.predict(X_val_tfidf)\n",
    "print(\"Detailed Classification Report:\")\n",
    "print(classification_report(y_val, val_result))\n",
    "\n",
    "# Overall accuracy\n",
    "accuracy = accuracy_score(y_val, val_result)\n",
    "print(f\"\\nOverall Accuracy: {accuracy:.4f}\")\n",
    "\n",
    "# Weighted F1-score\n",
    "weighted_f1 = f1_score(y_val, val_result, average='weighted')\n",
    "print(f\"Weighted F1-Score: {weighted_f1:.4f}\")\n",
    "\n",
    "print(\"-------------------------------------------------------------\")\n",
    "\n",
    "# Rule-based\n",
    "print(\"\\nRULE-BASED CLASSIFICATION RESULTS:\")\n",
    "val_df = pd.concat([X_val.reset_index(drop=True), y_val.reset_index(drop=True)], axis=1)\n",
    "val_df['predicted'] = val_df[\"text\"].apply(classify)\n",
    "\n",
    "# Classification report\n",
    "print(\"Detailed Classification Report:\")\n",
    "print(classification_report(test_df['sentiment'], test_df['predicted'], digits=4))\n",
    "\n",
    "# Overall accuracy\n",
    "accuracy = accuracy_score(test_df['sentiment'], test_df['predicted'])\n",
    "print(f\"\\nOverall Accuracy: {accuracy:.4f}\")\n",
    "\n",
    "# Weighted F1-score\n",
    "weighted_f1 = f1_score(test_df['sentiment'], test_df['predicted'], average='weighted')\n",
    "print(f\"Weighted F1-Score: {weighted_f1:.4f}\")"
   ],
   "id": "192298fd09a5f773",
   "outputs": [
    {
     "name": "stdout",
     "output_type": "stream",
     "text": [
      "NAIVE BAYES CLASSIFICATION RESULTS:\n",
      "Detailed Classification Report:\n",
      "              precision    recall  f1-score   support\n",
      "\n",
      "    negative       0.72      0.72      0.72        18\n",
      "     neutral       0.60      0.43      0.50         7\n",
      "    positive       0.81      0.86      0.83        29\n",
      "\n",
      "    accuracy                           0.76        54\n",
      "   macro avg       0.71      0.67      0.69        54\n",
      "weighted avg       0.75      0.76      0.75        54\n",
      "\n",
      "\n",
      "Overall Accuracy: 0.7593\n",
      "Weighted F1-Score: 0.7531\n",
      "-------------------------------------------------------------\n",
      "\n",
      "RULE-BASED CLASSIFICATION RESULTS:\n",
      "Detailed Classification Report:\n",
      "              precision    recall  f1-score   support\n",
      "\n",
      "    negative     0.8636    0.5588    0.6786        34\n",
      "     neutral     0.1818    0.6667    0.2857        12\n",
      "    positive     0.7812    0.4808    0.5952        52\n",
      "\n",
      "    accuracy                         0.5306        98\n",
      "   macro avg     0.6089    0.5688    0.5198        98\n",
      "weighted avg     0.7364    0.5306    0.5862        98\n",
      "\n",
      "\n",
      "Overall Accuracy: 0.5306\n",
      "Weighted F1-Score: 0.5862\n"
     ]
    }
   ],
   "execution_count": 131
  }
 ],
 "metadata": {
  "kernelspec": {
   "display_name": "base",
   "language": "python",
   "name": "python3"
  },
  "language_info": {
   "codemirror_mode": {
    "name": "ipython",
    "version": 3
   },
   "file_extension": ".py",
   "mimetype": "text/x-python",
   "name": "python",
   "nbconvert_exporter": "python",
   "pygments_lexer": "ipython3",
   "version": "3.12.4"
  }
 },
 "nbformat": 4,
 "nbformat_minor": 5
}
